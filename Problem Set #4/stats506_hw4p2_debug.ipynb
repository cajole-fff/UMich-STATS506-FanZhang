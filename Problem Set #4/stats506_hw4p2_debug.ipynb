{
 "cells": [
  {
   "cell_type": "code",
   "execution_count": 6,
   "metadata": {
    "vscode": {
     "languageId": "r"
    }
   },
   "outputs": [
    {
     "data": {
      "text/html": [
       "<table class=\"dataframe\">\n",
       "<caption>A data.frame: 6 × 11</caption>\n",
       "<thead>\n",
       "\t<tr><th></th><th scope=col>city</th><th scope=col>date</th><th scope=col>temp</th><th scope=col>o3</th><th scope=col>dewpoint</th><th scope=col>pm10</th><th scope=col>season</th><th scope=col>yday</th><th scope=col>month</th><th scope=col>month_numeric</th><th scope=col>year</th></tr>\n",
       "\t<tr><th></th><th scope=col>&lt;chr&gt;</th><th scope=col>&lt;chr&gt;</th><th scope=col>&lt;dbl&gt;</th><th scope=col>&lt;dbl&gt;</th><th scope=col>&lt;dbl&gt;</th><th scope=col>&lt;dbl&gt;</th><th scope=col>&lt;chr&gt;</th><th scope=col>&lt;int&gt;</th><th scope=col>&lt;chr&gt;</th><th scope=col>&lt;int&gt;</th><th scope=col>&lt;int&gt;</th></tr>\n",
       "</thead>\n",
       "<tbody>\n",
       "\t<tr><th scope=row>1</th><td>chic</td><td>1997-01-01</td><td>36.0</td><td> 5.659256</td><td>37.50</td><td>13.052268</td><td>Winter</td><td>1</td><td>Jan</td><td>1</td><td>1997</td></tr>\n",
       "\t<tr><th scope=row>2</th><td>chic</td><td>1997-01-02</td><td>45.0</td><td> 5.525417</td><td>47.25</td><td>41.948600</td><td>Winter</td><td>2</td><td>Jan</td><td>1</td><td>1997</td></tr>\n",
       "\t<tr><th scope=row>3</th><td>chic</td><td>1997-01-03</td><td>40.0</td><td> 6.288548</td><td>38.00</td><td>27.041751</td><td>Winter</td><td>3</td><td>Jan</td><td>1</td><td>1997</td></tr>\n",
       "\t<tr><th scope=row>4</th><td>chic</td><td>1997-01-04</td><td>51.5</td><td> 7.537758</td><td>45.50</td><td>25.072573</td><td>Winter</td><td>4</td><td>Jan</td><td>1</td><td>1997</td></tr>\n",
       "\t<tr><th scope=row>5</th><td>chic</td><td>1997-01-05</td><td>27.0</td><td>20.760798</td><td>11.25</td><td>15.343121</td><td>Winter</td><td>5</td><td>Jan</td><td>1</td><td>1997</td></tr>\n",
       "\t<tr><th scope=row>6</th><td>chic</td><td>1997-01-06</td><td>17.0</td><td>14.940874</td><td> 5.75</td><td> 9.364655</td><td>Winter</td><td>6</td><td>Jan</td><td>1</td><td>1997</td></tr>\n",
       "</tbody>\n",
       "</table>\n"
      ],
      "text/latex": [
       "A data.frame: 6 × 11\n",
       "\\begin{tabular}{r|lllllllllll}\n",
       "  & city & date & temp & o3 & dewpoint & pm10 & season & yday & month & month\\_numeric & year\\\\\n",
       "  & <chr> & <chr> & <dbl> & <dbl> & <dbl> & <dbl> & <chr> & <int> & <chr> & <int> & <int>\\\\\n",
       "\\hline\n",
       "\t1 & chic & 1997-01-01 & 36.0 &  5.659256 & 37.50 & 13.052268 & Winter & 1 & Jan & 1 & 1997\\\\\n",
       "\t2 & chic & 1997-01-02 & 45.0 &  5.525417 & 47.25 & 41.948600 & Winter & 2 & Jan & 1 & 1997\\\\\n",
       "\t3 & chic & 1997-01-03 & 40.0 &  6.288548 & 38.00 & 27.041751 & Winter & 3 & Jan & 1 & 1997\\\\\n",
       "\t4 & chic & 1997-01-04 & 51.5 &  7.537758 & 45.50 & 25.072573 & Winter & 4 & Jan & 1 & 1997\\\\\n",
       "\t5 & chic & 1997-01-05 & 27.0 & 20.760798 & 11.25 & 15.343121 & Winter & 5 & Jan & 1 & 1997\\\\\n",
       "\t6 & chic & 1997-01-06 & 17.0 & 14.940874 &  5.75 &  9.364655 & Winter & 6 & Jan & 1 & 1997\\\\\n",
       "\\end{tabular}\n"
      ],
      "text/markdown": [
       "\n",
       "A data.frame: 6 × 11\n",
       "\n",
       "| <!--/--> | city &lt;chr&gt; | date &lt;chr&gt; | temp &lt;dbl&gt; | o3 &lt;dbl&gt; | dewpoint &lt;dbl&gt; | pm10 &lt;dbl&gt; | season &lt;chr&gt; | yday &lt;int&gt; | month &lt;chr&gt; | month_numeric &lt;int&gt; | year &lt;int&gt; |\n",
       "|---|---|---|---|---|---|---|---|---|---|---|---|\n",
       "| 1 | chic | 1997-01-01 | 36.0 |  5.659256 | 37.50 | 13.052268 | Winter | 1 | Jan | 1 | 1997 |\n",
       "| 2 | chic | 1997-01-02 | 45.0 |  5.525417 | 47.25 | 41.948600 | Winter | 2 | Jan | 1 | 1997 |\n",
       "| 3 | chic | 1997-01-03 | 40.0 |  6.288548 | 38.00 | 27.041751 | Winter | 3 | Jan | 1 | 1997 |\n",
       "| 4 | chic | 1997-01-04 | 51.5 |  7.537758 | 45.50 | 25.072573 | Winter | 4 | Jan | 1 | 1997 |\n",
       "| 5 | chic | 1997-01-05 | 27.0 | 20.760798 | 11.25 | 15.343121 | Winter | 5 | Jan | 1 | 1997 |\n",
       "| 6 | chic | 1997-01-06 | 17.0 | 14.940874 |  5.75 |  9.364655 | Winter | 6 | Jan | 1 | 1997 |\n",
       "\n"
      ],
      "text/plain": [
       "  city date       temp o3        dewpoint pm10      season yday month\n",
       "1 chic 1997-01-01 36.0  5.659256 37.50    13.052268 Winter 1    Jan  \n",
       "2 chic 1997-01-02 45.0  5.525417 47.25    41.948600 Winter 2    Jan  \n",
       "3 chic 1997-01-03 40.0  6.288548 38.00    27.041751 Winter 3    Jan  \n",
       "4 chic 1997-01-04 51.5  7.537758 45.50    25.072573 Winter 4    Jan  \n",
       "5 chic 1997-01-05 27.0 20.760798 11.25    15.343121 Winter 5    Jan  \n",
       "6 chic 1997-01-06 17.0 14.940874  5.75     9.364655 Winter 6    Jan  \n",
       "  month_numeric year\n",
       "1 1             1997\n",
       "2 1             1997\n",
       "3 1             1997\n",
       "4 1             1997\n",
       "5 1             1997\n",
       "6 1             1997"
      ]
     },
     "metadata": {},
     "output_type": "display_data"
    }
   ],
   "source": [
    "library(tidyverse)\n",
    "nnmaps <- read.csv(\"./chicago-nmmaps.csv\")\n",
    "head(nnmaps)"
   ]
  },
  {
   "cell_type": "code",
   "execution_count": 23,
   "metadata": {
    "vscode": {
     "languageId": "r"
    }
   },
   "outputs": [],
   "source": [
    "get_temp <- function(month, \n",
    "                     year, \n",
    "                     data, \n",
    "                     celsius = FALSE, \n",
    "                     average_fn = mean) {\n",
    "    # Sanitize the input\n",
    "    months_abb <- c(\"Jan\", \"Feb\", \"Mar\", \"Apr\", \"May\", \"Jun\", \"Jul\", \"Aug\", \"Sep\", \"Oct\", \"Nov\", \"Dec\")\n",
    "    months_num <- c(1:12)\n",
    "    months_name <- c(\"January\", \"February\", \"March\", \"April\", \"May\", \"June\", \"July\", \"August\", \"September\", \"October\", \"November\", \"December\")\n",
    "\n",
    "    if (month %in% months_abb) {\n",
    "        month <- match(month, months_abb)\n",
    "    } else if (month %in% months_name) {\n",
    "        month <- match(month, months_name)\n",
    "    }\n",
    "    else if (month %in% months_num) {\n",
    "        month <- as.numeric(month)\n",
    "    } else {\n",
    "        cat(\"Invalid month input\", month, \". Should be an integer between 1 and 12 (for example, 1)or a string of month name (for example, January) or abbreviation (for example, Jan). Not case sensitive.\\n\")\n",
    "        return \n",
    "    }\n",
    "\n",
    "    year <- as.integer(year)\n",
    "\n",
    "    if (!is.integer(year) || year < 1997 || year > 2000) {\n",
    "        cat(\"Invalid year input\", year, \". Should be an integer between 1997 and 2000 (inclusive).\\n\")\n",
    "        return \n",
    "    }\n",
    "    if (!is.data.frame(data)) {\n",
    "        cat(\"Invalid data input\", data, \". Should be a data frame.\\n\")\n",
    "        return \n",
    "    }\n",
    "    if (!is.logical(celsius)) {\n",
    "        cat(\"Input celsius input\", celsius, \". Should be a logical value TRUE or FALSE.\\n\")\n",
    "        return \n",
    "    }\n",
    "    if (!is.function(average_fn)) {\n",
    "        cat(\"Input average_fn input\", average_fn, \". Should be a function.\\n\")\n",
    "        return \n",
    "    }\n",
    "    month_tmp <- month\n",
    "    year_tmp <- year \n",
    "    # print(month_tmp, year_tmp)\n",
    "    # Compute the average temperature\n",
    "    data %>%\n",
    "        filter(month_numeric == month_tmp & year == year_tmp) %>%\n",
    "        summarise(avg_temp = average_fn(temp)) %>%\n",
    "        mutate(avg_temp = ifelse(celsius == TRUE, (avg_temp - 32) * 5 / 9, avg_temp)) %>%\n",
    "        pull(avg_temp) %>%\n",
    "\n",
    "    # Return a numeric vector of length 1\n",
    "    return\n",
    "}"
   ]
  },
  {
   "cell_type": "code",
   "execution_count": 10,
   "metadata": {
    "vscode": {
     "languageId": "r"
    }
   },
   "outputs": [],
   "source": [
    "average_fn = function(x) {\n",
    "    x %>% sort -> x\n",
    "    x[2:(length(x) - 1)] %>% mean %>% return\n",
    "}"
   ]
  },
  {
   "cell_type": "code",
   "execution_count": 16,
   "metadata": {
    "vscode": {
     "languageId": "r"
    }
   },
   "outputs": [
    {
     "data": {
      "text/html": [
       "<table class=\"dataframe\">\n",
       "<caption>A data.frame: 1 × 1</caption>\n",
       "<thead>\n",
       "\t<tr><th scope=col>avg_temp</th></tr>\n",
       "\t<tr><th scope=col>&lt;dbl&gt;</th></tr>\n",
       "</thead>\n",
       "<tbody>\n",
       "\t<tr><td>19.66129</td></tr>\n",
       "</tbody>\n",
       "</table>\n"
      ],
      "text/latex": [
       "A data.frame: 1 × 1\n",
       "\\begin{tabular}{l}\n",
       " avg\\_temp\\\\\n",
       " <dbl>\\\\\n",
       "\\hline\n",
       "\t 19.66129\\\\\n",
       "\\end{tabular}\n"
      ],
      "text/markdown": [
       "\n",
       "A data.frame: 1 × 1\n",
       "\n",
       "| avg_temp &lt;dbl&gt; |\n",
       "|---|\n",
       "| 19.66129 |\n",
       "\n"
      ],
      "text/plain": [
       "  avg_temp\n",
       "1 19.66129"
      ]
     },
     "metadata": {},
     "output_type": "display_data"
    }
   ],
   "source": [
    "nnmaps %>% \n",
    "    filter(month_numeric == 1 & year == 1997) %>%\n",
    "    summarise(avg_temp = mean(temp))"
   ]
  },
  {
   "cell_type": "code",
   "execution_count": 24,
   "metadata": {
    "vscode": {
     "languageId": "r"
    }
   },
   "outputs": [
    {
     "data": {
      "text/html": [
       "7.3015873015873"
      ],
      "text/latex": [
       "7.3015873015873"
      ],
      "text/markdown": [
       "7.3015873015873"
      ],
      "text/plain": [
       "[1] 7.301587"
      ]
     },
     "metadata": {},
     "output_type": "display_data"
    }
   ],
   "source": [
    "get_temp(\"November\", 1999, data =nnmaps, celsius = TRUE,\n",
    "         average_fn = function(x) {\n",
    "           x %>% sort -> x\n",
    "           x[2:(length(x) - 1)] %>% mean %>% return\n",
    "         })"
   ]
  }
 ],
 "metadata": {
  "kernelspec": {
   "display_name": "R",
   "language": "R",
   "name": "ir"
  },
  "language_info": {
   "codemirror_mode": "r",
   "file_extension": ".r",
   "mimetype": "text/x-r-source",
   "name": "R",
   "pygments_lexer": "r",
   "version": "4.1.2"
  }
 },
 "nbformat": 4,
 "nbformat_minor": 2
}
